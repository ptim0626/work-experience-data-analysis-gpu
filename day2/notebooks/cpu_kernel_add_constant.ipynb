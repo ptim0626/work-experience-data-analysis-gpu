{
 "cells": [
  {
   "cell_type": "markdown",
   "id": "27572d2f-1ea0-4d5c-9e68-a88a31318a00",
   "metadata": {},
   "source": [
    "# Add Constant - CPU Kernel Operation\n",
    "This script demonstrates the fundamental concept of kernel operations by adding a constant value to each element of an array.\n",
    "\n",
    "A kernel is a function applied to every element of data independently. This independence is what makes GPU acceleration possible."
   ]
  },
  {
   "cell_type": "code",
   "execution_count": null,
   "id": "1f92acef-1199-400e-ad56-47b604bdddfe",
   "metadata": {},
   "outputs": [],
   "source": [
    "import matplotlib.pyplot as plt\n",
    "import numpy as np\n",
    "import time"
   ]
  },
  {
   "cell_type": "markdown",
   "id": "58afbaaf-5897-47da-bef6-584d35b7d469",
   "metadata": {},
   "source": [
    "## Preparing Data"
   ]
  },
  {
   "cell_type": "code",
   "execution_count": null,
   "id": "cfe4524c-076a-447d-9e92-c54098c1e367",
   "metadata": {},
   "outputs": [],
   "source": [
    "data = np.arange(8, dtype=np.float32)\n",
    "constant = 10.0"
   ]
  },
  {
   "cell_type": "markdown",
   "id": "84e67ba9-df90-4591-aa14-6c99c2bdec28",
   "metadata": {},
   "source": [
    "## Sequential Implementation"
   ]
  },
  {
   "cell_type": "code",
   "execution_count": null,
   "id": "17448fc3-3d29-4610-8e8f-ec6bb3726a02",
   "metadata": {},
   "outputs": [],
   "source": [
    "def add_constant_sequential(data, constant):\n",
    "    \"\"\"\n",
    "    Sequential implementation processes one element at a time.\n",
    "    This demonstrates how a CPU would execute the kernel.\n",
    "    \"\"\"\n",
    "    result = np.zeros_like(data)\n",
    "    \n",
    "    # process each element individually\n",
    "    for i in range(len(data)):\n",
    "        # apply the kernel function to element i\n",
    "        result[i] = data[i] + constant\n",
    "   \n",
    "    return result"
   ]
  },
  {
   "cell_type": "code",
   "execution_count": null,
   "id": "760a4505-9665-426c-b9e6-2ed668c28fe5",
   "metadata": {},
   "outputs": [],
   "source": [
    "print(f\"Input array:  {data}\")\n",
    "result = add_constant_sequential(data, constant)\n",
    "print(f\"Output array: {result}\")"
   ]
  },
  {
   "cell_type": "markdown",
   "id": "82a6f1f8-9466-4b11-84d6-f65d7fef8f60",
   "metadata": {},
   "source": [
    "## Simulating Parallel Processing"
   ]
  },
  {
   "cell_type": "code",
   "execution_count": null,
   "id": "e9994b53-46de-4716-9fcc-e159a170b0e6",
   "metadata": {},
   "outputs": [],
   "source": [
    "def simulate_parallel_processing(data, constant, num_threads=4):\n",
    "    \"\"\"\n",
    "    Simulates how parallel processing would work on a GPU.\n",
    "    Each thread processes a portion of the data independently.\n",
    "    \"\"\"\n",
    "    if num_threads > data.size:\n",
    "        raise ValueError(\"Number of threads greater than number of elements. \"\n",
    "                         \"Not supported in this simulation.\")\n",
    "    \n",
    "    result = np.zeros_like(data)\n",
    "    elements_per_thread = len(data) // num_threads\n",
    "    \n",
    "    # simulate each thread processing its assigned elements\n",
    "    thread_assignments = []\n",
    "    \n",
    "    for thread_id in range(num_threads):\n",
    "        # calculate which elements this thread processes\n",
    "        start_idx = thread_id * elements_per_thread\n",
    "        if thread_id == num_threads - 1:\n",
    "            # last thread handles any remaining elements for simplicity\n",
    "            end_idx = len(data)\n",
    "        else:\n",
    "            end_idx = start_idx + elements_per_thread\n",
    "        \n",
    "        # record assignment for visualisation\n",
    "        thread_assignments.append((thread_id, start_idx, end_idx))\n",
    "        \n",
    "        # process this thread's elements\n",
    "        for i in range(start_idx, end_idx):\n",
    "            result[i] = data[i] + constant\n",
    "    \n",
    "    return result, thread_assignments"
   ]
  },
  {
   "cell_type": "code",
   "execution_count": null,
   "id": "b29a2000-5a0d-417e-a729-160f0f14e687",
   "metadata": {},
   "outputs": [],
   "source": [
    "result_parallel, assignments = simulate_parallel_processing(data, constant, num_threads=4)\n",
    "\n",
    "print(f\"Using {len(assignments)} threads:\")\n",
    "for thread_id, start, end in assignments:\n",
    "    print(f\"  Thread {thread_id}: processes elements {start}-{end-1}\")\n",
    "print(f\"Result: {result_parallel}\\n\")"
   ]
  },
  {
   "cell_type": "markdown",
   "id": "2e127c72-52f2-40f6-ac59-4742bc9069bc",
   "metadata": {},
   "source": [
    "## Visualise Parallel Processing"
   ]
  },
  {
   "cell_type": "code",
   "execution_count": null,
   "id": "ba5905a3-b1d2-4242-99e9-54dde346581b",
   "metadata": {},
   "outputs": [],
   "source": [
    "def visualise_processing(array_size=16, num_threads=4):\n",
    "    \"\"\"\n",
    "    Create a visual representation of sequential vs parallel processing.\n",
    "    \"\"\"\n",
    "    fig, (ax1, ax2) = plt.subplots(2, 1, figsize=(10, 6))\n",
    "    \n",
    "    # sequential processing visualisation\n",
    "    ax1.set_title(\"Sequential Processing (CPU)\", fontsize=12)\n",
    "    ax1.set_xlim(-0.5, array_size - 0.5)\n",
    "    ax1.set_ylim(-0.5, 1.5)\n",
    "    ax1.set_xlabel(\"Array Index\")\n",
    "    ax1.set_ylabel(\"Time\")\n",
    "    \n",
    "    # show elements being processed one by one\n",
    "    for i in range(array_size):\n",
    "        rect = plt.Rectangle((i - 0.4, 0), 0.8, 1,\n",
    "                           facecolor=\"lightblue\", \n",
    "                           edgecolor=\"black\")\n",
    "        ax1.add_patch(rect)\n",
    "        ax1.text(i, 0.5, str(i), ha=\"center\", va=\"center\")\n",
    "    \n",
    "    # add arrow showing sequential flow\n",
    "    ax1.annotate(\"\", xy=(array_size - 0.5, 0.5), \n",
    "                xytext=(-0.5, 0.5),\n",
    "                arrowprops=dict(arrowstyle=\"->\", color=\"red\", lw=2))\n",
    "    ax1.text(array_size/2, -0.3, \"Processes one element at a time\",\n",
    "            ha=\"center\", color=\"red\")\n",
    "    \n",
    "    # parallel processing visualisation\n",
    "    ax2.set_title(\"Parallel Processing (GPU)\", fontsize=12)\n",
    "    ax2.set_xlim(-0.5, array_size - 0.5)\n",
    "    ax2.set_ylim(-0.5, num_threads + 0.5)\n",
    "    ax2.set_xlabel(\"Array Index\")\n",
    "    ax2.set_ylabel(\"Thread ID\")\n",
    "    \n",
    "    # colour map for threads\n",
    "    colours = plt.cm.Set3(np.linspace(0, 1, num_threads))\n",
    "    \n",
    "    # show elements assigned to each thread\n",
    "    elements_per_thread = array_size // num_threads\n",
    "    for thread_id in range(num_threads):\n",
    "        start_idx = thread_id * elements_per_thread\n",
    "        if thread_id == num_threads - 1:\n",
    "            end_idx = array_size\n",
    "        else:\n",
    "            end_idx = start_idx + elements_per_thread\n",
    "        \n",
    "        for i in range(start_idx, end_idx):\n",
    "            rect = plt.Rectangle((i - 0.4, thread_id + 0.1), 0.8, 0.8,\n",
    "                               facecolor=colours[thread_id], \n",
    "                               edgecolor=\"black\", alpha=0.7)\n",
    "            ax2.add_patch(rect)\n",
    "            ax2.text(i, thread_id + 0.5, str(i), \n",
    "                    ha=\"center\", va=\"center\", fontsize=10)\n",
    "    \n",
    "    # add thread labels\n",
    "    for thread_id in range(num_threads):\n",
    "        ax2.text(-1, thread_id + 0.5, f\"Thread {thread_id}\",\n",
    "                ha=\"right\", va=\"center\")\n",
    "    \n",
    "    ax2.text(array_size/2, -0.3, \n",
    "            \"All threads process simultaneously\",\n",
    "            ha=\"center\", color=\"green\")\n",
    "    \n",
    "    plt.tight_layout()\n",
    "    plt.show()"
   ]
  },
  {
   "cell_type": "code",
   "execution_count": null,
   "id": "a38fabb0-c6c4-4909-bcfd-ded233e3b835",
   "metadata": {},
   "outputs": [],
   "source": [
    "visualise_processing(array_size=16, num_threads=4)"
   ]
  },
  {
   "cell_type": "markdown",
   "id": "7e5a152e-9eab-48a8-b52b-35f3cb8198bf",
   "metadata": {},
   "source": [
    "## Performance Comparison"
   ]
  },
  {
   "cell_type": "code",
   "execution_count": null,
   "id": "9bfdc25b-064d-4b91-b34c-4ae1d398da7e",
   "metadata": {},
   "outputs": [],
   "source": [
    "def benchmark_implementations(sizes):\n",
    "    \"\"\"\n",
    "    Compare performance of sequential and vectorised implementations.\n",
    "    \"\"\"\n",
    "    results = {\n",
    "        \"sequential\": [],\n",
    "        \"vectorised\": [],\n",
    "        \"sizes\": sizes\n",
    "    }\n",
    "    constant = 42.0\n",
    "    \n",
    "    print(\"\\nPerformance Comparison\")\n",
    "    print(\"=\" * 50)\n",
    "    print(f\"{'Array Size':>12} {'Sequential':>12} {'Vectorised':>12} {'Speed-up':>12}\")\n",
    "    print(\"-\" * 50)\n",
    "\n",
    "    rng = np.random.default_rng()\n",
    "    for size in sizes:\n",
    "        # create test data\n",
    "        data = rng.random(size).astype(np.float32)\n",
    "        \n",
    "        # sequential implementation\n",
    "        start = time.perf_counter()\n",
    "        result_seq = add_constant_sequential(data, constant)\n",
    "        time_seq = time.perf_counter() - start\n",
    "        results[\"sequential\"].append(time_seq)\n",
    "        \n",
    "        # time vectorised implementation\n",
    "        start = time.perf_counter()\n",
    "        result_vec = data + constant\n",
    "        time_vec = time.perf_counter() - start\n",
    "        results[\"vectorised\"].append(time_vec)\n",
    "        \n",
    "        # verify results match\n",
    "        assert np.allclose(result_seq, result_vec)\n",
    "        \n",
    "        print(f\"{size:>12,} {time_seq:>12.6f} {time_vec:>12.6f} {time_seq/time_vec:>12.2f}x\")\n",
    "    \n",
    "    return results"
   ]
  },
  {
   "cell_type": "code",
   "execution_count": null,
   "id": "bbebbad7-2223-47f5-92b1-43609f657a63",
   "metadata": {},
   "outputs": [],
   "source": [
    "sizes = [1000, 10000, 100000, 1000000]\n",
    "results = benchmark_implementations(sizes)"
   ]
  },
  {
   "cell_type": "code",
   "execution_count": null,
   "id": "8842e893-f6a0-4e57-80ce-106d5e2713e0",
   "metadata": {},
   "outputs": [],
   "source": []
  }
 ],
 "metadata": {
  "kernelspec": {
   "display_name": "Python 3 (ipykernel)",
   "language": "python",
   "name": "python3"
  }
 },
 "nbformat": 4,
 "nbformat_minor": 5
}
