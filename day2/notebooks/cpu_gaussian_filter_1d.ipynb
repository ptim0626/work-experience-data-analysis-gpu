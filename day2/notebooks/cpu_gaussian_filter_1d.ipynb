{
 "cells": [
  {
   "cell_type": "markdown",
   "id": "cc62920a-44ee-453f-91e7-3023ae772ec1",
   "metadata": {},
   "source": [
    "# CPU 1D Gaussian Filter - Weighted Neighbourhood Operations\n",
    "\n",
    "This demonstrates how kernels apply different weights to neighbours.\n",
    "\n",
    "Gaussian filter is a fundamental image processing operation that smooths data while preserving edges better than simple averaging. However to preserve edge, median filter is generally prefered."
   ]
  },
  {
   "cell_type": "code",
   "execution_count": null,
   "id": "f5359938-93fd-48a3-9119-3fb8d5ad59eb",
   "metadata": {},
   "outputs": [],
   "source": [
    "import matplotlib.pyplot as plt\n",
    "import numpy as np"
   ]
  },
  {
   "cell_type": "markdown",
   "id": "afc3d74f-1d7e-40c2-880e-96886bdfa50e",
   "metadata": {},
   "source": [
    "## Gaussian Function"
   ]
  },
  {
   "cell_type": "code",
   "execution_count": null,
   "id": "99c6e6ed-474a-4fc8-bd12-74b9ed880956",
   "metadata": {},
   "outputs": [],
   "source": [
    "def gaussian_func(x, sigma):\n",
    "    \"\"\"Formula for Gaussian distribution.\"\"\"\n",
    "    coefficient = 1 / (np.sqrt(2 * np.pi) * sigma)\n",
    "    exponent = -x**2 / (2 * sigma**2)\n",
    "    return coefficient * np.exp(exponent)"
   ]
  },
  {
   "cell_type": "code",
   "execution_count": null,
   "id": "fa7323a9-25d6-4569-9866-63462a74aba4",
   "metadata": {},
   "outputs": [],
   "source": [
    "x_values = np.linspace(-3, 3, 100)\n",
    "sigma = 1.0\n",
    "gaussian_values = gaussian_func(x_values, sigma)\n",
    "\n",
    "plt.figure(figsize=(10, 5))\n",
    "plt.plot(x_values, gaussian_values, \"b-\", linewidth=2)\n",
    "plt.title(r\"Gaussian Function: $g(x)=\\frac{1}{\\sigma\\sqrt{2\\pi}}\\exp\\left(\\frac{-x^2}{2\\sigma^2}\\right)$\")\n",
    "plt.xlabel(\"x (distance from centre)\")\n",
    "plt.ylabel(r\"$g(x)$\")\n",
    "plt.grid(True, alpha=0.3)\n",
    "plt.axvline(x=0, color=\"red\", linestyle=\"--\", alpha=0.5)\n",
    "plt.axhline(y=0, color=\"black\", linewidth=0.5)\n",
    "\n",
    "# mark sigma positions\n",
    "plt.axvline(x=sigma, color=\"green\", linestyle=\":\", alpha=0.7)\n",
    "plt.axvline(x=-sigma, color=\"green\", linestyle=\":\", alpha=0.7)\n",
    "plt.text(sigma - 0.2, 0.2, r\"$\\sigma$\", fontsize=12, color=\"green\")\n",
    "plt.text(-sigma + 0.1, 0.2, r\"$-\\sigma$\", fontsize=12, color=\"green\")\n",
    "\n",
    "plt.tight_layout()\n",
    "plt.show()"
   ]
  },
  {
   "cell_type": "markdown",
   "id": "2b36209f-7773-4c69-9f72-441f51398ad7",
   "metadata": {},
   "source": [
    "## Compute the Gaussian Weights"
   ]
  },
  {
   "cell_type": "code",
   "execution_count": null,
   "id": "380cab6a-3a08-456e-9fd8-b87ba5ec68c0",
   "metadata": {},
   "outputs": [],
   "source": [
    "def create_gaussian_kernel(sigma, kernel_size=None):\n",
    "    \"\"\"Create 1D Gaussian kernel weights.\"\"\"\n",
    "    # input validation\n",
    "    if sigma <= 0:\n",
    "        raise ValueError(\"Sigma must be positive\")\n",
    "    \n",
    "    # automatically determine kernel size if not provided\n",
    "    if kernel_size is None:\n",
    "        # let cover a 6-sigma range\n",
    "        kernel_size = int(6 * sigma + 1)\n",
    "        # ensure odd size for symmetry\n",
    "        if kernel_size % 2 == 0:\n",
    "            kernel_size += 1\n",
    "    \n",
    "    # validate kernel size\n",
    "    if kernel_size < 1:\n",
    "        raise ValueError(\"Kernel size must be at least 1.\")\n",
    "    if kernel_size % 2 == 0:\n",
    "        raise ValueError(\"Kernel size must be odd for symmetry.\")\n",
    "    \n",
    "    # create position array centred at 0\n",
    "    half_size = kernel_size // 2\n",
    "    positions = np.arange(-half_size, half_size + 1)\n",
    "    \n",
    "    # calculate Gaussian weights (the exponent)\n",
    "    kernel = np.exp(-(positions**2) / (2 * sigma**2))\n",
    "    \n",
    "    # normalise so weights sum to 1\n",
    "    kernel = kernel / kernel.sum()\n",
    "    \n",
    "    return kernel, positions"
   ]
  },
  {
   "cell_type": "code",
   "execution_count": null,
   "id": "eebb343e-d17b-4d3d-8a43-c0e2405d2f42",
   "metadata": {},
   "outputs": [],
   "source": [
    "def visualise_gaussian_kernel(sigma):\n",
    "    \"\"\"Visualise Gaussian kernel weights.\"\"\"\n",
    "    kernel, positions = create_gaussian_kernel(sigma)\n",
    "\n",
    "    plt.figure(figsize=(8, 4))\n",
    "    plt.bar(positions, kernel, alpha=0.7, color=\"blue\", \n",
    "            edgecolor=\"darkblue\")\n",
    "    plt.title(rf\"Gaussian Kernel ($\\sigma={sigma}$)\")\n",
    "    plt.xlabel(\"Position relative to centre\")\n",
    "    plt.ylabel(\"Weight\")\n",
    "    \n",
    "    # annotate centre and edge weights\n",
    "    centre_idx = len(kernel) // 2\n",
    "    plt.text(0, kernel[centre_idx] - 0.03, \n",
    "             f\"{kernel[centre_idx]:.3f}\", \n",
    "             ha=\"center\", fontsize=9)\n",
    "    \n",
    "    plt.tight_layout()\n",
    "    plt.show()"
   ]
  },
  {
   "cell_type": "code",
   "execution_count": null,
   "id": "f6479099-0ab2-4b9f-bc8c-a977c150fdc9",
   "metadata": {},
   "outputs": [],
   "source": [
    "for sigma in [0.5, 1.0, 2.0]:\n",
    "    visualise_gaussian_kernel(sigma)"
   ]
  },
  {
   "cell_type": "markdown",
   "id": "e40b5162-8a65-4dc2-babd-da2bfe094a59",
   "metadata": {},
   "source": [
    "## Gaussian Filter"
   ]
  },
  {
   "cell_type": "code",
   "execution_count": null,
   "id": "8d16b1b4-ee1a-4881-a325-321f1a516b1e",
   "metadata": {},
   "outputs": [],
   "source": [
    "def gaussian_filter_1d(data, sigma, boundary_mode=\"zero\", quiet=False):\n",
    "    \"\"\"Gaussian filter with different padding strategies.\"\"\"\n",
    "    # validate input\n",
    "    if not isinstance(data, np.ndarray):\n",
    "        data = np.asarray(data)\n",
    "    \n",
    "    if len(data) == 0:\n",
    "        raise ValueError(\"Input data cannot be empty\")\n",
    "    \n",
    "    if boundary_mode not in (\"zero\", \"reflect\", \"constant\"):\n",
    "        raise ValueError(\"boundary_mode must be 'zero', 'reflect' or 'constant'\")\n",
    "    \n",
    "    # create Gaussian kernel\n",
    "    kernel, positions = create_gaussian_kernel(sigma)\n",
    "    kernel_size = len(kernel)\n",
    "    half_size = kernel_size // 2\n",
    "    \n",
    "    if not quiet:\n",
    "        print(f\"Gaussian Filter Parameters:\")\n",
    "        print(f\"  Sigma: {sigma}\")\n",
    "        print(f\"  Kernel size: {kernel_size}\")\n",
    "        print(f\"  Centre weight: {kernel[half_size]:.3f}\")\n",
    "        print(f\"  Edge weights: {kernel[0]:.3f}, {kernel[-1]:.3f}\")\n",
    "        print(f\"  Sum of weights: {kernel.sum():.6f}\")\n",
    "        print(f\"  Boundary mode: {boundary_mode}\\n\")\n",
    "    \n",
    "    # prepare output array\n",
    "    result = np.zeros_like(data)\n",
    "    \n",
    "    # each iteration of this outer loop is completely\n",
    "    # independent - this is why Gaussian filtering is perfect for GPU\n",
    "    # every thread can process one output element without coordination.\n",
    "    for i in range(data.size):\n",
    "        # accumulate weighted sum\n",
    "        weighted_sum = 0.0\n",
    "        weight_sum = 0.0\n",
    "        \n",
    "        # show calculations for first few elements\n",
    "        if not quiet and i < 2:\n",
    "            print(f\"Computing position {i}:\")\n",
    "        \n",
    "        # apply kernel weights\n",
    "        for k in range(kernel_size):\n",
    "            # calculate source position\n",
    "            source_pos = i - half_size + k\n",
    "            origina_source_pos = source_pos\n",
    "            \n",
    "            # handle boundaries based on mode\n",
    "            if boundary_mode == \"zero\":\n",
    "                # zero padding: use 0 for out-of-bound\n",
    "                if 0 <= source_pos < len(data):\n",
    "                    value = data[source_pos]\n",
    "                else:\n",
    "                    value = 0.0\n",
    "                weight = kernel[k]\n",
    "            elif boundary_mode == \"reflect\":\n",
    "                # reflect at boundaries\n",
    "                if source_pos < 0:\n",
    "                    source_pos = -source_pos\n",
    "                elif source_pos >= len(data):\n",
    "                    source_pos = 2 * len(data) - source_pos - 2\n",
    "                value = data[source_pos]\n",
    "                weight = kernel[k]\n",
    "            else:\n",
    "                # constant\n",
    "                if source_pos < 0:\n",
    "                    source_pos = 0\n",
    "                elif source_pos >= len(data):\n",
    "                    source_pos = len(data) - 1\n",
    "                value = data[source_pos]\n",
    "                weight = kernel[k]\n",
    "\n",
    "            if weight > 0:\n",
    "                contribution = value * weight\n",
    "                weighted_sum += contribution\n",
    "                weight_sum += weight\n",
    "                \n",
    "                if not quiet and i < 2:\n",
    "                    print(f\"  pos {origina_source_pos}: \"\n",
    "                          f\"{value:.2f} × {weight:.3f} = \"\n",
    "                          f\"{contribution:.3f}\")\n",
    "        \n",
    "        # normalise by actual weight sum\n",
    "        if weight_sum > 0:\n",
    "            result[i] = weighted_sum / weight_sum\n",
    "        else:\n",
    "            result[i] = 0\n",
    "            \n",
    "        if not quiet and i < 2:\n",
    "            print(f\"  Result: {weighted_sum:.3f} / {weight_sum:.3f} \"\n",
    "                  f\"= {result[i]:.3f}\\n\")\n",
    "    \n",
    "    return result"
   ]
  },
  {
   "cell_type": "code",
   "execution_count": null,
   "id": "bc2e9de5-5093-4be7-acb8-894e4090b87b",
   "metadata": {},
   "outputs": [],
   "source": [
    "# noisy signal\n",
    "x = np.linspace(0, 4*np.pi, 100)\n",
    "clean_signal = (np.sin(x)**2 - np.cos(x-np.pi/2))*5\n",
    "\n",
    "noise = np.random.normal(0, 1, len(x))\n",
    "noisy_signal = clean_signal + noise"
   ]
  },
  {
   "cell_type": "code",
   "execution_count": null,
   "id": "3725ac9f-decf-497e-9ec1-4630f468266e",
   "metadata": {},
   "outputs": [],
   "source": [
    "filtered = gaussian_filter_1d(noisy_signal, sigma=2.0)"
   ]
  },
  {
   "cell_type": "markdown",
   "id": "b4ff9307-2237-4aa8-afdd-e85c4c681f81",
   "metadata": {},
   "source": [
    "## Function to Visualise Filtered Signal"
   ]
  },
  {
   "cell_type": "code",
   "execution_count": null,
   "id": "5de6ecba-3e91-4b54-9627-efef7ec1cd07",
   "metadata": {},
   "outputs": [],
   "source": [
    "def visualise_gaussian_filter(original, filtered, noisy=None):\n",
    "    \"\"\"Visualise the effect of Gaussian filtering.\"\"\"\n",
    "    num_plots = 2 if noisy is None else 3\n",
    "    fig, ax = plt.subplots(num_plots, 1, figsize=(12, 8))\n",
    "    \n",
    "    # original signal\n",
    "    ax[0].plot(original, \"b-\", label=\"Original\", linewidth=2)\n",
    "    ax[0].set_title(\"Original Signal\")\n",
    "    ax[0].set_ylabel(\"Value\")\n",
    "    ax[0].grid(True, alpha=0.3)\n",
    "    ax[0].legend()\n",
    "    \n",
    "    if noisy is not None:\n",
    "        ax_filtered = ax[2]\n",
    "        # noisy signal\n",
    "        ax[1].plot(noisy, \"r-\", alpha=0.7, label=\"Noisy\")\n",
    "        ax[1].plot(original, \"b--\", alpha=0.5, label=\"Original\")\n",
    "        ax[1].set_title(\"Signal with Noise\")\n",
    "        ax[1].set_ylabel(\"Value\")\n",
    "        ax[1].grid(True, alpha=0.3)\n",
    "        ax[1].legend()\n",
    "    else:\n",
    "        ax_filtered = ax[1]\n",
    "\n",
    "    # filtered signal\n",
    "    ax_filtered.plot(filtered, \"g-\", label=\"Gaussian Filtered\", linewidth=2)\n",
    "    ax_filtered.plot(original, \"b--\", alpha=0.5, label=\"Original\")\n",
    "    ax_filtered.set_title(\"After Gaussian Filter\")\n",
    "    ax_filtered.set_xlabel(\"Index\")\n",
    "    ax_filtered.set_ylabel(\"Value\")\n",
    "    ax_filtered.grid(True, alpha=0.3)\n",
    "    ax_filtered.legend()\n",
    "    \n",
    "    plt.tight_layout()\n",
    "    plt.show()"
   ]
  },
  {
   "cell_type": "code",
   "execution_count": null,
   "id": "9a96b0d8-cda9-4dbe-be3a-fe8cc5a18758",
   "metadata": {},
   "outputs": [],
   "source": [
    "visualise_gaussian_filter(clean_signal, filtered, noisy=noisy_signal)"
   ]
  },
  {
   "cell_type": "markdown",
   "id": "664f0026-9490-435c-bd98-af41bed23d80",
   "metadata": {},
   "source": [
    "## Handling of Edge\n",
    "Reflect at the edge"
   ]
  },
  {
   "cell_type": "code",
   "execution_count": null,
   "id": "4f1b11f6-7b39-4013-bdc9-cadae9b9a776",
   "metadata": {},
   "outputs": [],
   "source": [
    "filtered_reflect = gaussian_filter_1d(noisy_signal, sigma=2.0, boundary_mode=\"reflect\", quiet=True)\n",
    "visualise_gaussian_filter(clean_signal, filtered_reflect, noisy=noisy_signal)"
   ]
  },
  {
   "cell_type": "markdown",
   "id": "5e2510eb-6415-4450-b120-2311643e4964",
   "metadata": {},
   "source": [
    "Fill by constant at the edge (the same value at the boundary)"
   ]
  },
  {
   "cell_type": "code",
   "execution_count": null,
   "id": "65f46f5a-857d-44e1-8121-aa26d67d621e",
   "metadata": {},
   "outputs": [],
   "source": [
    "filtered_constant = gaussian_filter_1d(noisy_signal, sigma=2.0, boundary_mode=\"constant\", quiet=True)\n",
    "visualise_gaussian_filter(clean_signal, filtered_constant, noisy=noisy_signal)"
   ]
  },
  {
   "cell_type": "code",
   "execution_count": null,
   "id": "76a9b6c2-e4d9-4043-8988-b574a682d03f",
   "metadata": {},
   "outputs": [],
   "source": []
  },
  {
   "cell_type": "code",
   "execution_count": null,
   "id": "c6ccc5d4-9ff1-482e-9a24-93c278ad3dea",
   "metadata": {},
   "outputs": [],
   "source": []
  }
 ],
 "metadata": {
  "kernelspec": {
   "display_name": "Python 3 (ipykernel)",
   "language": "python",
   "name": "python3"
  }
 },
 "nbformat": 4,
 "nbformat_minor": 5
}
