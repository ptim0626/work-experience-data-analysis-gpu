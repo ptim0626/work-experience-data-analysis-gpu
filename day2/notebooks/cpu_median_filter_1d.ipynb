{
 "cells": [
  {
   "cell_type": "markdown",
   "id": "8ab18f6c-bfd1-45c6-9277-168a2b17493e",
   "metadata": {},
   "source": [
    "# CPU 1D Median Filter - Understanding Neighbourhood Operations\n",
    "This introduces kernels that look at multiple elements (windows)\n",
    "\n",
    "The median calculation is done explicitly (without `np.median`) to show exactly what operations should be in CUDA C."
   ]
  },
  {
   "cell_type": "code",
   "execution_count": null,
   "id": "3df192a2-fb31-49c7-b86f-a9aabff7247c",
   "metadata": {},
   "outputs": [],
   "source": [
    "import matplotlib.pyplot as plt\n",
    "import numpy as np"
   ]
  },
  {
   "cell_type": "markdown",
   "id": "ff26382e-2bae-4be8-8760-54e72e14e482",
   "metadata": {},
   "source": [
    "## Functions for Median Filter"
   ]
  },
  {
   "cell_type": "code",
   "execution_count": null,
   "id": "221dd74c-d7d0-427a-b3bd-848837fb5054",
   "metadata": {},
   "outputs": [],
   "source": [
    "def calculate_median_explicit(window):\n",
    "    \"\"\"\n",
    "    Calculate median using only basic operations available in CUDA C.\n",
    "    Use bubble sort for simplicity.\n",
    "    \"\"\"\n",
    "    # make a copy to avoid modifying original\n",
    "    sorted_window = window.copy()\n",
    "    n = len(sorted_window)\n",
    "    \n",
    "    # bubble sort - simple and sufficient for small windows\n",
    "    # this directly translates to CUDA C\n",
    "    for i in range(n):\n",
    "        for j in range(0, n - i - 1):\n",
    "            if sorted_window[j] > sorted_window[j + 1]:\n",
    "                # swap elements\n",
    "                temp = sorted_window[j]\n",
    "                sorted_window[j] = sorted_window[j + 1]\n",
    "                sorted_window[j + 1] = temp\n",
    "    \n",
    "    # find middle element (we ensure odd window sizes)\n",
    "    middle_index = n // 2\n",
    "    return sorted_window[middle_index]"
   ]
  },
  {
   "cell_type": "code",
   "execution_count": null,
   "id": "0149b1c5-7cce-45ad-88cd-197c838b63e7",
   "metadata": {},
   "outputs": [],
   "source": [
    "def median_filter_1d(data, window_size=3, quiet=False):\n",
    "    \"\"\"\n",
    "    Apply median filter to 1D data.\n",
    "    Window size should be odd (3, 5, 7, etc.).\n",
    "    \"\"\"\n",
    "    # validate inputs\n",
    "    if data.size == 0:\n",
    "        return np.array([])\n",
    "    \n",
    "    # ensure window size is odd\n",
    "    if window_size % 2 == 0:\n",
    "        window_size += 1\n",
    "        print(f\"Window size must be odd, using {window_size}\")\n",
    "    \n",
    "    # ensure window size is not larger than data\n",
    "    if window_size > data.size:\n",
    "        window_size = data.size if len(data) % 2 == 1 else data.size - 1\n",
    "        print(f\"Window size too large, using {window_size}\")\n",
    "    \n",
    "    half_window = window_size // 2\n",
    "    result = np.zeros_like(data)\n",
    "    \n",
    "    if not quiet:\n",
    "        print(f\"Applying median filter with window size {window_size}\")\n",
    "        print(f\"Each element looks at {half_window} neighbours on each side\\n\")\n",
    "    \n",
    "    # process each element\n",
    "    for i in range(data.size):\n",
    "        # determine window boundaries (handle edges)\n",
    "        start = max(0, i - half_window)\n",
    "        end = min(data.size, i + half_window + 1)\n",
    "        \n",
    "        # extract window\n",
    "        window = data[start:end]\n",
    "        \n",
    "        # calculate median using explicit operations\n",
    "        result[i] = calculate_median_explicit(window)\n",
    "        \n",
    "        # show details for first and last few elements\n",
    "        if not quiet:\n",
    "            if i < 3 or i >= len(data) - 3:\n",
    "                window_str = f\"[{start}:{end}]\"\n",
    "                median_val = f\"{result[i]:.2f}\"\n",
    "                print(f\"Position {i}: window {window_str} = {window}\")\n",
    "                print(f\"         -> median = {median_val}\")\n",
    "\n",
    "    if not quiet:\n",
    "        if data.size > 6:\n",
    "            print(\"... (middle elements processed similarly) ...\")\n",
    "    \n",
    "    return result"
   ]
  },
  {
   "cell_type": "markdown",
   "id": "e9d283c0-68c6-4cfc-a096-e16669926885",
   "metadata": {},
   "source": [
    "## Function to Visualise Filtered Signal"
   ]
  },
  {
   "cell_type": "code",
   "execution_count": null,
   "id": "47710340-2070-4ea4-a4b9-f46d86c62426",
   "metadata": {},
   "outputs": [],
   "source": [
    "def visualise_median_filter(original, filtered, noisy=None):\n",
    "    \"\"\"Visualise the effect of median filtering.\"\"\"\n",
    "    num_plots = 2 if noisy is None else 3\n",
    "    fig, ax = plt.subplots(num_plots, 1, figsize=(12, 8))\n",
    "    \n",
    "    # original signal\n",
    "    ax[0].plot(original, \"b-\", label=\"Original\", linewidth=2)\n",
    "    ax[0].set_title(\"Original Signal\")\n",
    "    ax[0].set_ylabel(\"Value\")\n",
    "    ax[0].grid(True, alpha=0.3)\n",
    "    ax[0].legend()\n",
    "    \n",
    "    if noisy is not None:\n",
    "        ax_filtered = ax[2]\n",
    "        # noisy signal\n",
    "        ax[1].plot(noisy, \"r-\", alpha=0.7, label=\"Noisy\")\n",
    "        ax[1].plot(original, \"b--\", alpha=0.5, label=\"Original\")\n",
    "        ax[1].set_title(\"Signal with Noise\")\n",
    "        ax[1].set_ylabel(\"Value\")\n",
    "        ax[1].grid(True, alpha=0.3)\n",
    "        ax[1].legend()\n",
    "    else:\n",
    "        ax_filtered = ax[1]\n",
    "\n",
    "    # filtered signal\n",
    "    ax_filtered.plot(filtered, \"g-\", label=\"Median Filtered\", linewidth=2)\n",
    "    ax_filtered.plot(original, \"b--\", alpha=0.5, label=\"Original\")\n",
    "    ax_filtered.set_title(\"After Median Filter\")\n",
    "    ax_filtered.set_xlabel(\"Index\")\n",
    "    ax_filtered.set_ylabel(\"Value\")\n",
    "    ax_filtered.grid(True, alpha=0.3)\n",
    "    ax_filtered.legend()\n",
    "    \n",
    "    plt.tight_layout()\n",
    "    plt.show()"
   ]
  },
  {
   "cell_type": "markdown",
   "id": "04cb565d-32fc-4fc2-9b0d-0b70c18ee993",
   "metadata": {},
   "source": [
    "## Removing Outliers"
   ]
  },
  {
   "cell_type": "code",
   "execution_count": null,
   "id": "ee80789c-f25e-4f82-bd70-e76b454a150f",
   "metadata": {},
   "outputs": [],
   "source": [
    "signal = np.full(20, 5)\n",
    "signal[2] = 15   # outlier\n",
    "signal[10] = 0   # outlier\n",
    "signal[17] = 7  # outlier\n",
    "\n",
    "print(f\"Signal with outliers: {signal}\")"
   ]
  },
  {
   "cell_type": "code",
   "execution_count": null,
   "id": "82aafdff-8332-44b3-9bd1-bb35c27748b7",
   "metadata": {},
   "outputs": [],
   "source": [
    "# apply median filter\n",
    "filtered = median_filter_1d(signal, window_size=5)\n",
    "print(f\"\\nFiltered signal: {filtered}\")"
   ]
  },
  {
   "cell_type": "code",
   "execution_count": null,
   "id": "3b1bee9a-e7b4-45e1-8e9f-d3de15227edb",
   "metadata": {},
   "outputs": [],
   "source": [
    "visualise_median_filter(signal, filtered)"
   ]
  },
  {
   "cell_type": "markdown",
   "id": "efa0d963-1947-410e-9dd0-6cad362b1d54",
   "metadata": {},
   "source": [
    "## Smoothing Noisy Signal"
   ]
  },
  {
   "cell_type": "code",
   "execution_count": null,
   "id": "c0535576-d706-41f5-8dec-70f15c7f37dd",
   "metadata": {},
   "outputs": [],
   "source": [
    "# noisy signal\n",
    "x = np.linspace(0, 4*np.pi, 100)\n",
    "clean_signal = (np.sin(x)**2 - np.cos(x-np.pi/2))*5\n",
    "\n",
    "noise = np.random.normal(0, 1, len(x))\n",
    "noisy_signal = clean_signal + noise"
   ]
  },
  {
   "cell_type": "code",
   "execution_count": null,
   "id": "bc6ca9e6-f7b3-47ad-ae34-e664bdabc8f0",
   "metadata": {},
   "outputs": [],
   "source": [
    "# filter the signal with different window sizes\n",
    "for ws in (3, 5, 7):\n",
    "    filtered = median_filter_1d(noisy_signal, window_size=ws, quiet=True)\n",
    "    visualise_median_filter(clean_signal, filtered, noisy=noisy_signal)"
   ]
  },
  {
   "cell_type": "markdown",
   "id": "d556e7c9-f805-4586-adea-9bb66790a9b9",
   "metadata": {},
   "source": [
    "## Bubble Sort Break Down"
   ]
  },
  {
   "cell_type": "code",
   "execution_count": null,
   "id": "84c7f554-ea37-40dc-b211-46070642383b",
   "metadata": {},
   "outputs": [],
   "source": [
    "demo_window = np.array([5.0, 2.0, 8.0, 1.0, 6.0])\n",
    "print(f\"Example window: {demo_window}\")\n",
    "print(\"\\nBubble sort steps:\")\n",
    "\n",
    "temp_window = demo_window.copy()\n",
    "n = len(temp_window)\n",
    "for i in range(n):\n",
    "    swapped = False\n",
    "    for j in range(0, n - i - 1):\n",
    "        if temp_window[j] > temp_window[j + 1]:\n",
    "            # swap\n",
    "            temp = temp_window[j]\n",
    "            temp_window[j] = temp_window[j + 1]\n",
    "            temp_window[j + 1] = temp\n",
    "            swapped = True\n",
    "    if swapped:\n",
    "        print(f\"After pass {i+1}: {temp_window}\")\n",
    "\n",
    "print(f\"\\nSorted window: {temp_window}\")\n",
    "print(f\"Middle index: {n//2}\")\n",
    "print(f\"Median value: {temp_window[n//2]}\")"
   ]
  },
  {
   "cell_type": "markdown",
   "id": "4770c8e9-51ee-4452-b99f-48acce09a9b1",
   "metadata": {},
   "source": [
    "## Handling of edge"
   ]
  },
  {
   "cell_type": "code",
   "execution_count": null,
   "id": "13d49ab9-f908-494d-babd-2b4e40d3e5a9",
   "metadata": {},
   "outputs": [],
   "source": [
    "def median_filter_with_padding(data, window_size=3, padding=\"edge\"):\n",
    "    \"\"\"Median filter with different padding strategies.\"\"\"\n",
    "    half_window = window_size // 2\n",
    "    \n",
    "    if padding == \"edge\":\n",
    "        # repeat edge values\n",
    "        padded = np.pad(data, half_window, mode=\"edge\")\n",
    "    elif padding == \"reflect\":\n",
    "        # mirror values at edges\n",
    "        padded = np.pad(data, half_window, mode=\"reflect\")\n",
    "    elif padding == \"zero\":\n",
    "        # pad with zeros\n",
    "        padded = np.pad(data, half_window, mode=\"constant\", \n",
    "                       constant_values=0)\n",
    "    else:\n",
    "        raise ValueError(f\"Unsupported padding strategy '{padding}'.\") \n",
    "    \n",
    "    result = np.zeros_like(data)\n",
    "    \n",
    "    for i in range(data.size):\n",
    "        # window in padded array\n",
    "        window_start = i\n",
    "        window_end = i + window_size\n",
    "        window = padded[window_start:window_end]\n",
    "        result[i] = calculate_median_explicit(window)\n",
    "    \n",
    "    return result"
   ]
  },
  {
   "cell_type": "code",
   "execution_count": null,
   "id": "cf418034-9af8-41ec-aaa6-d90b3815db6c",
   "metadata": {},
   "outputs": [],
   "source": [
    "edge_test = np.array([2, 0, 10, 5, 5, 5, 10, 10, 0])\n",
    "print(f\"Test signal: {edge_test}\")\n",
    "\n",
    "for padding in (\"edge\", \"reflect\", \"zero\"):\n",
    "    filtered = median_filter_with_padding(edge_test, window_size=3, padding=padding)\n",
    "    print(f\"{padding:11}: {filtered}\")"
   ]
  },
  {
   "cell_type": "code",
   "execution_count": null,
   "id": "4c84ff8a-cb59-4d40-bca7-c004e2e343e3",
   "metadata": {},
   "outputs": [],
   "source": []
  }
 ],
 "metadata": {
  "kernelspec": {
   "display_name": "Python 3 (ipykernel)",
   "language": "python",
   "name": "python3"
  }
 },
 "nbformat": 4,
 "nbformat_minor": 5
}
