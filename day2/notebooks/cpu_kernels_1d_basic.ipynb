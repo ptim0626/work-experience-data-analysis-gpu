{
 "cells": [
  {
   "cell_type": "markdown",
   "id": "676ace49-1f46-4442-9c4d-32e65b4595d4",
   "metadata": {},
   "source": [
    "# CPU Kernels 1D Basics - Understanding Element-wise Operations\n",
    "This notebook demonstrates how array operations work element by element.\n",
    "\n",
    "Each operation inside the loop is a \"kernel\" - the core computation\n",
    "that will later be parallelised on the GPU."
   ]
  },
  {
   "cell_type": "code",
   "execution_count": null,
   "id": "7f300600-b68d-4ffe-924e-cb0f3dc06cfe",
   "metadata": {},
   "outputs": [],
   "source": [
    "import numpy as np"
   ]
  },
  {
   "cell_type": "markdown",
   "id": "3cdd065d-6ec4-4a27-93cf-2652603867c5",
   "metadata": {},
   "source": [
    "## Create Random Data"
   ]
  },
  {
   "cell_type": "code",
   "execution_count": null,
   "id": "5fe9ae65-7769-4abd-924c-a45ec76eff8b",
   "metadata": {},
   "outputs": [],
   "source": [
    "rng = np.random.default_rng(seed=831)\n",
    "array_size = 20\n",
    "data = rng.integers(1, 10, array_size).astype(float)\n",
    "print(f\"Original array (first 10): {data[:10]}...\")"
   ]
  },
  {
   "cell_type": "markdown",
   "id": "8aa54fe7-c5e7-4b98-935a-9080f5d0d3f7",
   "metadata": {},
   "source": [
    "## Element-wise Operations\n",
    "### Method 1: Using NumPy\n",
    "NumPy hides the loop."
   ]
  },
  {
   "cell_type": "code",
   "execution_count": null,
   "id": "187ed1e9-ea09-4b52-bea7-857fbf66a9fb",
   "metadata": {},
   "outputs": [],
   "source": [
    "numpy_result = data + 5\n",
    "print(f\"Result: {numpy_result[:10]}...\")"
   ]
  },
  {
   "cell_type": "markdown",
   "id": "5d7f8ff1-28ae-4175-b162-d21e6a08a942",
   "metadata": {},
   "source": [
    "### Method 2: Explicit loop\n",
    "This demonstrates the concept of a kernel."
   ]
  },
  {
   "cell_type": "code",
   "execution_count": null,
   "id": "663b46f9-26d5-4e2f-b4c0-7ee38d649605",
   "metadata": {},
   "outputs": [],
   "source": [
    "def kernel_add_constant(input_array, constant):\n",
    "    \"\"\"\n",
    "    Add a constant to each element.\n",
    "    \n",
    "    This function shows explicitly what happens inside NumPy.\n",
    "    each iteration of the loop is independent - this is key!\n",
    "    on a GPU, each iteration would run on a different thread.\n",
    "    \"\"\"\n",
    "    output_array = np.zeros_like(input_array)\n",
    "    \n",
    "    # this loop will become parallel threads on gpu\n",
    "    for i in range(input_array.size):\n",
    "        # the kernel: what each thread does independently\n",
    "        output_array[i] = input_array[i] + constant\n",
    "    \n",
    "    return output_array"
   ]
  },
  {
   "cell_type": "code",
   "execution_count": null,
   "id": "5ec8501d-7454-4c70-9b60-0e43ce88a2e1",
   "metadata": {},
   "outputs": [],
   "source": [
    "loop_result = kernel_add_constant(data, 5)\n",
    "print(f\"Result: {loop_result[:10]}...\")"
   ]
  },
  {
   "cell_type": "markdown",
   "id": "44c549d2-9b84-48e0-b8a8-39b2dfaf58b5",
   "metadata": {},
   "source": [
    "## Different Operations\n",
    "Multiplication, squaring and thresholding."
   ]
  },
  {
   "cell_type": "code",
   "execution_count": null,
   "id": "9f4a47cb-a4c7-4e76-82f5-78c1795913f1",
   "metadata": {},
   "outputs": [],
   "source": [
    "def kernel_multiply(input_array, factor):\n",
    "    \"\"\"Multiply each element by a factor.\"\"\"\n",
    "    output_array = np.zeros_like(input_array)\n",
    "    \n",
    "    for i in range(input_array.size):\n",
    "        # kernel: multiply operation\n",
    "        output_array[i] = input_array[i] * factor\n",
    "    \n",
    "    return output_array\n",
    "\n",
    "def kernel_square(input_array):\n",
    "    \"\"\"Square each element.\"\"\"\n",
    "    output_array = np.zeros_like(input_array)\n",
    "    \n",
    "    for i in range(input_array.size):\n",
    "        # kernel: square operation\n",
    "        output_array[i] = input_array[i] ** 2\n",
    "    \n",
    "    return output_array\n",
    "\n",
    "def kernel_threshold(input_array, threshold):\n",
    "    \"\"\"Set to 1 if above threshold, 0 otherwise.\"\"\"\n",
    "    output_array = np.zeros_like(input_array)\n",
    "    \n",
    "    for i in range(input_array.size):\n",
    "        # kernel: threshold operation\n",
    "        if input_array[i] > threshold:\n",
    "            output_array[i] = 1.0\n",
    "        else:\n",
    "            output_array[i] = 0.0\n",
    "    \n",
    "    return output_array"
   ]
  },
  {
   "cell_type": "code",
   "execution_count": null,
   "id": "da654ab7-2dc8-4c79-b54a-938fb4117e16",
   "metadata": {},
   "outputs": [],
   "source": [
    "print(\"Applying different kernels to the same data:\")\n",
    "print(f\"Original:    {data[:10]}...\")\n",
    "\n",
    "multiplied = kernel_multiply(data, 2)\n",
    "print(f\"Multiplied:  {multiplied[:10]}...\")\n",
    "\n",
    "squared = kernel_square(data)\n",
    "print(f\"Squared:     {squared[:10]}...\")\n",
    "\n",
    "thresholded = kernel_threshold(data, 5)\n",
    "print(f\"Thresholded: {thresholded[:10]}...\")"
   ]
  },
  {
   "cell_type": "markdown",
   "id": "bc9ba71c-ee6c-43f9-b407-3e4123606f23",
   "metadata": {},
   "source": [
    "## Independence Operations\n",
    "This demonstrate each iteration only needs `input_array[i]` and does not need results from other threads.\n",
    "\n",
    "This is sometimes called _embarrassingly parallel_."
   ]
  },
  {
   "cell_type": "code",
   "execution_count": null,
   "id": "f9d7b110-144c-4132-bcc5-6246e71db398",
   "metadata": {},
   "outputs": [],
   "source": [
    "def demonstrate_independence(input_array):\n",
    "    \"\"\"\n",
    "    Show each element is processed independently\n",
    "    \"\"\"\n",
    "    # only process and return what we demonstrate\n",
    "    demo_size = min(10, input_array.size)\n",
    "    output_array = np.zeros(demo_size)\n",
    "    \n",
    "    print(\"Processing each element independently:\")\n",
    "    for i in range(demo_size):\n",
    "        output_array[i] = input_array[i] * 2 + 3\n",
    "        print(f\"  Thread {i}: input[{i}] = {input_array[i]:.1f} \"\n",
    "              f\"-> output[{i}] = {output_array[i]:.1f}\")\n",
    "    \n",
    "    return output_array"
   ]
  },
  {
   "cell_type": "code",
   "execution_count": null,
   "id": "3f7151ac-e19c-4df1-8021-861aa9e48b7c",
   "metadata": {},
   "outputs": [],
   "source": [
    "demonstrate_independence(data)"
   ]
  },
  {
   "cell_type": "markdown",
   "id": "12fda265-1ec4-4328-808f-c183cf99d7b4",
   "metadata": {},
   "source": [
    "## Dependence Operations\n",
    "\n",
    "Each output depends on the previous output and this dependency prevents parallel execution."
   ]
  },
  {
   "cell_type": "code",
   "execution_count": null,
   "id": "e1808b4c-3e45-4406-818b-170293517f39",
   "metadata": {},
   "outputs": [],
   "source": [
    "def kernel_cumulative_sum(input_array):\n",
    "    \"\"\"\n",
    "    Cumulative summing depends on the previous result.\n",
    "    \"\"\"\n",
    "    output_array = np.zeros_like(input_array)\n",
    "    \n",
    "    # the first element is the same\n",
    "    output_array[0] = input_array[0]\n",
    "    \n",
    "    for i in range(1, input_array.size):\n",
    "        # this operation depends on the previous iteration\n",
    "        # thread i needs the result from thread i-1\n",
    "        output_array[i] = output_array[i-1] + input_array[i]\n",
    "    \n",
    "    return output_array"
   ]
  },
  {
   "cell_type": "code",
   "execution_count": null,
   "id": "7228744d-01d2-41e8-a871-04c0acec240a",
   "metadata": {},
   "outputs": [],
   "source": [
    "cumulative_result = kernel_cumulative_sum(data)\n",
    "\n",
    "print(f\"Input:           {data}\")\n",
    "print(f\"Cumulative sum:  {cumulative_result}\")"
   ]
  },
  {
   "cell_type": "code",
   "execution_count": null,
   "id": "d11ec479-e25a-4741-9f20-17da0a721579",
   "metadata": {},
   "outputs": [],
   "source": [
    "def kernel_sequential_random(size, seed):\n",
    "    \"\"\"\n",
    "    Each random number depends on the previous state.\n",
    "    \"\"\"\n",
    "    output_array = np.zeros(size)\n",
    "    state = seed\n",
    "    \n",
    "    for i in range(size):\n",
    "        # each random number depends entirely on previous state\n",
    "        state = (1103515245 * state + 831721) % (2**31)\n",
    "        output_array[i] = state / (2**31)\n",
    "    \n",
    "    return output_array"
   ]
  },
  {
   "cell_type": "code",
   "execution_count": null,
   "id": "cf5c8cd8-df32-4e20-9961-ed79facf455b",
   "metadata": {},
   "outputs": [],
   "source": [
    "random_sequence = kernel_sequential_random(10, seed=20250701)\n",
    "print(f\"Random sequence: {random_sequence[:5]}...\")"
   ]
  },
  {
   "cell_type": "code",
   "execution_count": null,
   "id": "37fc84c1-297f-41a9-87d7-4244e9c648a4",
   "metadata": {},
   "outputs": [],
   "source": []
  }
 ],
 "metadata": {
  "kernelspec": {
   "display_name": "Python 3 (ipykernel)",
   "language": "python",
   "name": "python3"
  }
 },
 "nbformat": 4,
 "nbformat_minor": 5
}
