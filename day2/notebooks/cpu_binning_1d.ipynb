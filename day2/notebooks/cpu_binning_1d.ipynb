{
 "cells": [
  {
   "cell_type": "markdown",
   "id": "52b30b4d-96c3-49d6-a2ab-a5dc2ea7e393",
   "metadata": {},
   "source": [
    "# CPU 1D Pixel Binning - Data Reduction\n",
    "\n",
    "This demonstrates pixel binning by summing adjacent elements. Common in detector data to increase signal-to-noise ratio and reduce the size of data."
   ]
  },
  {
   "cell_type": "code",
   "execution_count": null,
   "id": "09cba29b-46f9-4376-9b6c-fb1c895d3b94",
   "metadata": {},
   "outputs": [],
   "source": [
    "import matplotlib.pyplot as plt\n",
    "import numpy as np"
   ]
  },
  {
   "cell_type": "code",
   "execution_count": null,
   "id": "ca73c346-6a54-46eb-8055-9da7bb37eeea",
   "metadata": {},
   "outputs": [],
   "source": [
    "def bin_pixels_1d(data, bin_size):\n",
    "    \"\"\"Bin 1D pixel data by summing adjacent elements.\"\"\"\n",
    "    # validate input\n",
    "    if bin_size <= 0:\n",
    "        raise ValueError(\"bin_size must be positive.\")\n",
    "    \n",
    "    data_size = data.size\n",
    "    # calculate number of output bins (round up for partial bins)\n",
    "    n_bins = (data_size + bin_size - 1) // bin_size\n",
    "    \n",
    "    # pre-allocate output array with same dtype as input\n",
    "    result = np.zeros(n_bins, dtype=data.dtype)\n",
    "    \n",
    "    for bin_idx in range(n_bins):\n",
    "        # sum pixels belonging to this bin\n",
    "        bin_sum = np.float32(0.0)\n",
    "        for i in range(bin_size):\n",
    "            pixel_idx = bin_idx * bin_size + i\n",
    "            \n",
    "            # boundary check - critical to avoid processing out-of-bound data\n",
    "            if pixel_idx < data_size:\n",
    "                bin_sum += data[pixel_idx]\n",
    "        \n",
    "        # store result for this bin\n",
    "        result[bin_idx] = bin_sum\n",
    "    \n",
    "    return result"
   ]
  },
  {
   "cell_type": "code",
   "execution_count": null,
   "id": "9bf8a5ae-5270-4c5e-8b4d-378c308bb376",
   "metadata": {},
   "outputs": [],
   "source": [
    "def demonstrate_binning(data, bin_size):\n",
    "    \"\"\"Walk through the pixel binning algorithm.\"\"\"\n",
    "    if bin_size <= 0:\n",
    "        raise ValueError(\"bin_size must be positive.\")\n",
    "    \n",
    "    print(f\"\\nDemonstrating binning algorithm:\")\n",
    "    print(f\"Input: {data}\")\n",
    "    print(f\"Input size: {data.size}\")\n",
    "    print(f\"Bin size: {bin_size}\")\n",
    "    \n",
    "    data_size = data.size\n",
    "    n_bins = (data_size + bin_size - 1) // bin_size\n",
    "    print(f\"Number of output bins: {n_bins}\")\n",
    "    \n",
    "    result = bin_pixels_1d(data, bin_size)\n",
    "    \n",
    "    # show suuming of first few \"threads\"\n",
    "    for bin_idx in range(min(3, n_bins)):\n",
    "        print(f\"\\nThread {bin_idx} (computing bin {bin_idx}):\")\n",
    "        elements = []\n",
    "        for i in range(bin_size):\n",
    "            pixel_idx = bin_idx * bin_size + i\n",
    "            if pixel_idx < data_size:\n",
    "                elements.append(f\"{data[pixel_idx]}\")\n",
    "        print(f\"  Sums pixels {bin_idx * bin_size} to \"\n",
    "              f\"{min(bin_idx * bin_size + bin_size - 1, data_size - 1)}\")\n",
    "        print(f\"  Values: {' + '.join(elements)} = {result[bin_idx]}\")\n",
    "\n",
    "    print(f\"\\nResult: {result}\")\n",
    "    print(f\"Total counts preserved: \"\n",
    "          f\"{np.sum(pixel_data)} -> {np.sum(result)}\")\n",
    "        \n",
    "    return result"
   ]
  },
  {
   "cell_type": "code",
   "execution_count": null,
   "id": "433b13d1-f574-4078-a6b2-c1baf2a78d16",
   "metadata": {},
   "outputs": [],
   "source": [
    "pixel_data = np.array([10, 12, 8, 15, 20, 18, 5, 7, 9, 11, 13, 14], dtype=np.float32)"
   ]
  },
  {
   "cell_type": "code",
   "execution_count": null,
   "id": "d81e9770-66a0-4557-8db1-ba5f35179a87",
   "metadata": {},
   "outputs": [],
   "source": [
    "binned = demonstrate_binning(pixel_data, bin_size=2)"
   ]
  },
  {
   "cell_type": "markdown",
   "id": "929b961d-95e4-4eb3-88b3-6a3a564af992",
   "metadata": {},
   "source": [
    "## Simulate Noisy Detector Data\n",
    "With Poisson noise (photon counting statisitcs).\n",
    "\n",
    "We will compute a signal-to-noise ratio (SNR), which is a common metric to estimate how noisy the data is. The higher the value of SNR, the 'cleaner' the data are. "
   ]
  },
  {
   "cell_type": "markdown",
   "id": "6d10b9de-a584-4994-b489-ee427130e7c9",
   "metadata": {},
   "source": [
    "### Generate the Data"
   ]
  },
  {
   "cell_type": "code",
   "execution_count": null,
   "id": "342ca416-b0f7-44cb-acb5-9be1463a33e1",
   "metadata": {},
   "outputs": [],
   "source": [
    "n_pixels = 1000\n",
    "rng = np.random.default_rng()\n",
    "\n",
    "# signal = background + peaks\n",
    "signal = rng.poisson(lam=5, size=n_pixels).astype(np.float32)\n",
    "peak_positions = [200, 500, 800]\n",
    "peak_width = 50\n",
    "\n",
    "for pos in peak_positions:\n",
    "    start = max(0, pos - peak_width//2)\n",
    "    end = min(n_pixels, pos + peak_width//2)\n",
    "    background = rng.poisson(lam=100, size=end-start)\n",
    "    signal[start:end] += background.astype(np.float32)"
   ]
  },
  {
   "cell_type": "markdown",
   "id": "b13121b0-ffa2-4709-b1dc-fae71f4d0261",
   "metadata": {},
   "source": [
    "### Compare Different Binning Sizes"
   ]
  },
  {
   "cell_type": "code",
   "execution_count": null,
   "id": "35860d46-e9f2-4096-b566-dcd9cf2b0116",
   "metadata": {},
   "outputs": [],
   "source": [
    "bin_factors = [1, 2, 5, 10]\n",
    "fig, ax = plt.subplots(len(bin_factors), 1, figsize=(12, 10))\n",
    "\n",
    "for idx, bin_size in enumerate(bin_factors):\n",
    "    if bin_size == 1:\n",
    "        binned = signal\n",
    "        title = \"Original Detector Data (no binning)\"\n",
    "    else:\n",
    "        binned = bin_pixels_1d(signal, bin_size)\n",
    "        title = f\"Binned {bin_size}x ({len(binned)} bins)\"\n",
    "    \n",
    "    # create appropriate x-axis\n",
    "    if bin_size == 1:\n",
    "        x_vals = np.arange(len(binned))\n",
    "        width = 0.9\n",
    "    else:\n",
    "        x_vals = np.arange(len(binned)) * bin_size + bin_size/2\n",
    "        width = bin_size * 0.9\n",
    "    \n",
    "    ax[idx].bar(x_vals, binned, width=width, \n",
    "                  color=\"darkblue\", alpha=0.7, edgecolor=\"navy\")\n",
    "    ax[idx].set_title(title)\n",
    "    ax[idx].set_ylabel(\"Photon Counts\")\n",
    "    ax[idx].grid(True, alpha=0.3)\n",
    "    \n",
    "    # statistics\n",
    "    total = np.sum(binned)\n",
    "    peak = np.max(binned)\n",
    "    \n",
    "    # estimate background from quiet regions (no signal peaks)\n",
    "    # for this simulation, we know first 100 bins should be background only\n",
    "    # the indices are scaled by bin size\n",
    "    quiet_bins = binned[:100 // bin_size]  \n",
    "    background_per_bin = np.mean(quiet_bins)\n",
    "    \n",
    "    # calculate SNR for each bin\n",
    "    # signal = total_counts - background\n",
    "    # guard negative signal\n",
    "    signal_per_bin = np.maximum(binned - background_per_bin, 0)\n",
    "\n",
    "    # noise = sqrt(total_counts) because of Poisson statistics\n",
    "    noise_per_bin = np.sqrt(binned)\n",
    "\n",
    "    # avoid division by zero (i.e. for noise equals to 0)\n",
    "    snr_per_bin = np.divide(signal_per_bin, noise_per_bin, \n",
    "                           out=np.zeros_like(signal_per_bin), \n",
    "                           where=noise_per_bin!=0)\n",
    "    \n",
    "    # find peak SNR in signal regions\n",
    "    peak_snr = np.max(snr_per_bin)\n",
    "    \n",
    "    # average of those that are signals\n",
    "    mean_snr_in_peaks = np.mean(snr_per_bin[snr_per_bin > 3])  \n",
    "\n",
    "    # display the statistics\n",
    "    stats_text = (f\"Total: {total:.0f}\\nPeak: {peak:.0f}\\n\"\n",
    "                  f\"Max peak SNR: {peak_snr:.1f}\\n\"\n",
    "                  f\"Avg peak SNR: {mean_snr_in_peaks:.1f}\"\n",
    "                  )\n",
    "    ax[idx].text(0.02, 0.95, stats_text,\n",
    "                   transform=ax[idx].transAxes, \n",
    "                   verticalalignment=\"top\",\n",
    "                   bbox=dict(boxstyle=\"round,pad=0.3\", \n",
    "                            facecolor=\"wheat\", alpha=0.8))\n",
    "\n",
    "ax[-1].set_xlabel(\"Pixel Position\")\n",
    "plt.tight_layout()\n",
    "plt.show()"
   ]
  },
  {
   "cell_type": "code",
   "execution_count": null,
   "id": "f49f6193-9575-4f29-8efb-1257cfeb9ff1",
   "metadata": {},
   "outputs": [],
   "source": []
  }
 ],
 "metadata": {
  "kernelspec": {
   "display_name": "Python 3 (ipykernel)",
   "language": "python",
   "name": "python3"
  }
 },
 "nbformat": 4,
 "nbformat_minor": 5
}
